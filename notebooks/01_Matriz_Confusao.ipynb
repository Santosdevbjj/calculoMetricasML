# 01_Matriz_Confusao.ipynb

# %% [markdown]
# ## 1. Entendendo a Matriz de Confusão
#
# A matriz de confusão é uma ferramenta fundamental para avaliar o desempenho de um modelo de classificação. Ela resume a performance do modelo em um formato de tabela, comparando as previsões do modelo com os valores reais. Para um problema de classificação binária, ela é geralmente apresentada da seguinte forma:
#
# |             | Previsto Positivo | Previsto Negativo |
# | :---------- | :---------------- | :---------------- |
# | **Real Positivo** | VP                | FN                |
# | **Real Negativo** | FP                | VN                |
#
# Onde:
# * **VP (Verdadeiros Positivos):** Casos que eram positivos e foram corretamente classificados como positivos.
# * **FN (Falsos Negativos):** Casos que eram positivos, mas foram incorretamente classificados como negativos.
# * **FP (Falsos Positivos):** Casos que eram negativos, mas foram incorretamente classificados como positivos.
# * **VN (Verdadeiros Negativos):** Casos que eram negativos e foram corretamente classificados como negativos.
#
# ## 2. Valores Arbitrários para Demonstração
#
# Para os propósitos deste projeto, utilizaremos valores arbitrários para a matriz de confusão, permitindo focar na implementação e compreensão das métricas.
#
# Vamos definir os seguintes valores:

# %%
vp = 80
fn = 20
fp = 10
vn = 90

print(f"Matriz de Confusão:")
print(f"VP (Verdadeiros Positivos): {vp}")
print(f"FN (Falsos Negativos):      {fn}")
print(f"FP (Falsos Positivos):      {fp}")
print(f"VN (Verdadeiros Negativos): {vn}")

# %% [markdown]
# ### Visualização Simples
#
# Podemos visualizar essa matriz de forma mais estruturada:

# %%
from IPython.display import display, Markdown

matrix_md = f"""
|                         | **Previsto Positivo** | **Previsto Negativo** |
| :---------------------- | :-------------------: | :-------------------: |
| **Real Positivo** | {vp}                  | {fn}                  |
| **Real Negativo** | {fp}                  | {vn}                  |
"""
display(Markdown(matrix_md))

# %% [markdown]
# ## 3. Cálculo do Total de Elementos
#
# O total de elementos na base de dados é a soma de todos os valores na matriz de confusão.
#
# $N = VP + FN + FP + VN$

# %%
N = vp + fn + fp + vn
print(f"Total de Elementos (N): {N}")

# %% [markdown]
# ## 4. Relacionando com as Métricas
#
# Cada métrica utilizada na avaliação de modelos de classificação é calculada a partir desses quatro valores (VP, FN, FP, VN). No próximo notebook, veremos como implementar as funções para calcular cada uma delas.
